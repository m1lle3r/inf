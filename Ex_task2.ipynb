{
  "nbformat": 4,
  "nbformat_minor": 0,
  "metadata": {
    "colab": {
      "provenance": [],
      "authorship_tag": "ABX9TyOZoKxZhUfdv/UFs7ya9A/2",
      "include_colab_link": true
    },
    "kernelspec": {
      "name": "python3",
      "display_name": "Python 3"
    },
    "language_info": {
      "name": "python"
    }
  },
  "cells": [
    {
      "cell_type": "markdown",
      "metadata": {
        "id": "view-in-github",
        "colab_type": "text"
      },
      "source": [
        "<a href=\"https://colab.research.google.com/github/m1lle3r/inf/blob/main/Ex_task2.ipynb\" target=\"_parent\"><img src=\"https://colab.research.google.com/assets/colab-badge.svg\" alt=\"Open In Colab\"/></a>"
      ]
    },
    {
      "cell_type": "code",
      "execution_count": null,
      "metadata": {
        "colab": {
          "base_uri": "https://localhost:8080/"
        },
        "id": "g0t-pzVPvos2",
        "outputId": "42f87d71-7304-405b-c9d8-78bfc6baa8a7"
      },
      "outputs": [
        {
          "name": "stdout",
          "output_type": "stream",
          "text": [
            "1. Добавить контакт\n",
            "2. Удалить контакт\n",
            "3. Показать все контакты\n",
            "4. Изменить номер\n",
            "5. Выход\n",
            "\n",
            "Выберите категорию: 5\n"
          ]
        }
      ],
      "source": [
        "menu_options = [\n",
        "    \"1. Добавить контакт\",\n",
        "    \"2. Удалить контакт\",\n",
        "    \"3. Показать все контакты\",\n",
        "    \"4. Изменить номер\",\n",
        "    \"5. Выход\"\n",
        "]\n",
        "\n",
        "selection = None\n",
        "contacts = {}\n",
        "\n",
        "\n",
        "def update_contact(contact_name: str, phone_number: str) -> dict:\n",
        "    contacts[format_name(contact_name)] = format_phone(phone_number)\n",
        "    return contacts\n",
        "\n",
        "\n",
        "def remove_contact(contact_name: str) -> None:\n",
        "    contacts.__delitem__(contact_name)\n",
        "\n",
        "\n",
        "def show_all_contacts() -> None:\n",
        "    if len(contacts) == 0:\n",
        "        print(\"Контактов нет\")\n",
        "        pass\n",
        "\n",
        "    for contact in contacts.items():\n",
        "        print(' '.join(contact))\n",
        "\n",
        "\n",
        "def format_name(name: str) -> str:\n",
        "    words = name.split(\" \")\n",
        "\n",
        "    for i in range(len(words)):\n",
        "        words[i] = words[i][0].upper() + words[i][1:].lower()\n",
        "\n",
        "    return ' '.join(words)\n",
        "\n",
        "\n",
        "def format_phone(number: str) -> str:\n",
        "    if len(number) < 10:\n",
        "        return \"Invalid\"\n",
        "\n",
        "    if len(number) == 11:\n",
        "        return number.replace(number[0], '+7', 1)\n",
        "\n",
        "    return '+7' + number\n",
        "\n",
        "\n",
        "while True:\n",
        "    print('\\n'.join(menu_options))\n",
        "    selection = input(\"\\nВыберите категорию: \")\n",
        "\n",
        "    if not selection.isdigit():\n",
        "        continue\n",
        "\n",
        "    if int(selection) not in [1, 2, 3, 4, 5]:\n",
        "        continue\n",
        "\n",
        "    if int(selection) == 5:\n",
        "        break\n",
        "\n",
        "    option_actions = {\n",
        "        1: lambda _: update_contact(input(\"Введите имя: \"), input(\"Введите телефон: \")),\n",
        "        2: lambda _: remove_contact(input(\"Введите имя: \")),\n",
        "        3: lambda _: show_all_contacts(),\n",
        "        4: lambda _: update_contact(input(\"Введите имя: \"), input(\"Введите телефон: \")),\n",
        "    }\n",
        "\n",
        "    option_actions.get(int(selection), 5)(None)"
      ]
    },
    {
      "cell_type": "code",
      "source": [],
      "metadata": {
        "id": "0J2OuH2Vxekt"
      },
      "execution_count": null,
      "outputs": []
    }
  ]
}